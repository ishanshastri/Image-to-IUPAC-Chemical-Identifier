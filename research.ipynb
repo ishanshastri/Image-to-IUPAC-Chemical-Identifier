{
 "cells": [
  {
   "cell_type": "code",
   "execution_count": 11,
   "metadata": {},
   "outputs": [],
   "source": [
    "import keras\n",
    "import matplotlib.pyplot as plt\n",
    "import numpy as np\n",
    "import tensorflow as tf\n",
    "import os\n",
    "import deepchem as dc\n",
    "import transformers\n",
    "os.environ[\"KERAS_BACKEND\"] = \"tensorflow\"\n"
   ]
  },
  {
   "cell_type": "code",
   "execution_count": 12,
   "metadata": {},
   "outputs": [
    {
     "name": "stderr",
     "output_type": "stream",
     "text": [
      "/opt/homebrew/Cellar/python@3.11/3.11.6_1/Frameworks/Python.framework/Versions/3.11/lib/python3.11/pty.py:89: RuntimeWarning: os.fork() was called. os.fork() is incompatible with multithreaded code, and JAX is multithreaded, so this will likely lead to a deadlock.\n",
      "  pid, fd = os.forkpty()\n"
     ]
    },
    {
     "name": "stdout",
     "output_type": "stream",
     "text": [
      "Requirement already satisfied: opencv-python in /opt/homebrew/lib/python3.11/site-packages (4.10.0.84)\n",
      "Requirement already satisfied: numpy>=1.21.2 in /opt/homebrew/lib/python3.11/site-packages (from opencv-python) (1.26.2)\n",
      "\n",
      "\u001b[1m[\u001b[0m\u001b[34;49mnotice\u001b[0m\u001b[1;39;49m]\u001b[0m\u001b[39;49m A new release of pip is available: \u001b[0m\u001b[31;49m24.0\u001b[0m\u001b[39;49m -> \u001b[0m\u001b[32;49m24.2\u001b[0m\n",
      "\u001b[1m[\u001b[0m\u001b[34;49mnotice\u001b[0m\u001b[1;39;49m]\u001b[0m\u001b[39;49m To update, run: \u001b[0m\u001b[32;49mpython3.11 -m pip install --upgrade pip\u001b[0m\n"
     ]
    }
   ],
   "source": [
    "# %pip install cv2\n",
    "# !pip show cv2\n",
    "DATA_PATH = 'CompiledDataset/relevant_data.csv'\n",
    "SMILES_PATH = 'CompiledDataset/data.csv'\n",
    "\n",
    "import sys\n",
    "from scipy import spatial\n",
    "!{sys.executable} -m pip install opencv-python\n",
    "import cv2\n",
    "import pandas as pd\n",
    "# from Model import GetData, DATA_PATH\n",
    "\n",
    "#Retrieve dataframe from stored csv file\n",
    "def GetData(file):\n",
    "    \"\"\"\n",
    "    Retrieve data from file, return pandas dataframe\n",
    "    \"\"\"\n",
    "    d = pd.read_csv(file)\n",
    "    Data = d['Images']\n",
    "    Data = pd.concat([Data, d[[str(i) for i in range(128)]]], axis=\"columns\")\n",
    "    Data['SMILES'] = pd.read_csv(SMILES_PATH)['SMILES']\n",
    "    return Data\n",
    "\n",
    "def _getEmbedding(index, df):\n",
    "    \"\"\"\n",
    "    Return an embedding from dataframe (consisting of only the embeddings)\n",
    "    \"\"\"\n",
    "    return df.iloc[index].to_numpy()\n",
    "\n",
    "def _get_closest_embedding(vector, embeds):\n",
    "    #euclidean = lambda x, y: \n",
    "    #distances = {embed:spatial.distance.cosine(vector, embed) for embed in embeds}\n",
    "    #sorted_dists = sorted(distances.items(), key=lambda x:x[1])\n",
    "    distances = [(embed, spatial.distance.cosine(vector, embed)) for embed in embeds]\n",
    "    sorted_dists = sorted(distances, key=lambda x:x[1])\n",
    "    return sorted_dists[0]\n"
   ]
  },
  {
   "cell_type": "code",
   "execution_count": 13,
   "metadata": {},
   "outputs": [],
   "source": [
    "data = GetData(DATA_PATH)"
   ]
  },
  {
   "cell_type": "code",
   "execution_count": 14,
   "metadata": {},
   "outputs": [
    {
     "data": {
      "text/html": [
       "<div>\n",
       "<style scoped>\n",
       "    .dataframe tbody tr th:only-of-type {\n",
       "        vertical-align: middle;\n",
       "    }\n",
       "\n",
       "    .dataframe tbody tr th {\n",
       "        vertical-align: top;\n",
       "    }\n",
       "\n",
       "    .dataframe thead th {\n",
       "        text-align: right;\n",
       "    }\n",
       "</style>\n",
       "<table border=\"1\" class=\"dataframe\">\n",
       "  <thead>\n",
       "    <tr style=\"text-align: right;\">\n",
       "      <th></th>\n",
       "      <th>Images</th>\n",
       "      <th>0</th>\n",
       "      <th>1</th>\n",
       "      <th>2</th>\n",
       "      <th>3</th>\n",
       "      <th>4</th>\n",
       "      <th>5</th>\n",
       "      <th>6</th>\n",
       "      <th>7</th>\n",
       "      <th>8</th>\n",
       "      <th>...</th>\n",
       "      <th>119</th>\n",
       "      <th>120</th>\n",
       "      <th>121</th>\n",
       "      <th>122</th>\n",
       "      <th>123</th>\n",
       "      <th>124</th>\n",
       "      <th>125</th>\n",
       "      <th>126</th>\n",
       "      <th>127</th>\n",
       "      <th>SMILES</th>\n",
       "    </tr>\n",
       "  </thead>\n",
       "  <tbody>\n",
       "    <tr>\n",
       "      <th>0</th>\n",
       "      <td>ImageData/uh0.png</td>\n",
       "      <td>0.008918</td>\n",
       "      <td>0.007185</td>\n",
       "      <td>0.003843</td>\n",
       "      <td>-0.004025</td>\n",
       "      <td>-0.007159</td>\n",
       "      <td>-0.004339</td>\n",
       "      <td>-0.002224</td>\n",
       "      <td>0.004571</td>\n",
       "      <td>-0.006694</td>\n",
       "      <td>...</td>\n",
       "      <td>-0.005933</td>\n",
       "      <td>0.002324</td>\n",
       "      <td>-0.000274</td>\n",
       "      <td>0.001278</td>\n",
       "      <td>0.006330</td>\n",
       "      <td>-0.000406</td>\n",
       "      <td>0.005050</td>\n",
       "      <td>0.003521</td>\n",
       "      <td>0.005719</td>\n",
       "      <td>C[NH+](CC1=C(C=CC=C1Cl)F)CN2C(=O)CC3(C2=O)CCCCC3</td>\n",
       "    </tr>\n",
       "    <tr>\n",
       "      <th>1</th>\n",
       "      <td>ImageData/uh1.png</td>\n",
       "      <td>0.005314</td>\n",
       "      <td>0.007546</td>\n",
       "      <td>-0.005600</td>\n",
       "      <td>0.001770</td>\n",
       "      <td>0.004105</td>\n",
       "      <td>-0.003233</td>\n",
       "      <td>0.001038</td>\n",
       "      <td>0.001464</td>\n",
       "      <td>-0.009206</td>\n",
       "      <td>...</td>\n",
       "      <td>0.001146</td>\n",
       "      <td>0.002944</td>\n",
       "      <td>0.003084</td>\n",
       "      <td>0.001922</td>\n",
       "      <td>0.002732</td>\n",
       "      <td>-0.005300</td>\n",
       "      <td>-0.003507</td>\n",
       "      <td>0.004510</td>\n",
       "      <td>0.000134</td>\n",
       "      <td>CC1=C(C=C(C=C1)C(=O)NC2=C(C=C(C=C2)I)C3=NC4=CC...</td>\n",
       "    </tr>\n",
       "    <tr>\n",
       "      <th>2</th>\n",
       "      <td>ImageData/uh2.png</td>\n",
       "      <td>0.010540</td>\n",
       "      <td>-0.001101</td>\n",
       "      <td>-0.010949</td>\n",
       "      <td>0.010823</td>\n",
       "      <td>0.006059</td>\n",
       "      <td>-0.007081</td>\n",
       "      <td>0.004326</td>\n",
       "      <td>-0.004051</td>\n",
       "      <td>-0.007896</td>\n",
       "      <td>...</td>\n",
       "      <td>0.001325</td>\n",
       "      <td>-0.007659</td>\n",
       "      <td>-0.009448</td>\n",
       "      <td>-0.005587</td>\n",
       "      <td>-0.004743</td>\n",
       "      <td>0.007540</td>\n",
       "      <td>-0.004380</td>\n",
       "      <td>-0.006842</td>\n",
       "      <td>0.008730</td>\n",
       "      <td>COC1=CC=C(C=C1)CCN2C(=O)CC(SC2=NC3=CC=C(C=C3)O...</td>\n",
       "    </tr>\n",
       "    <tr>\n",
       "      <th>3</th>\n",
       "      <td>ImageData/uh3.png</td>\n",
       "      <td>0.009642</td>\n",
       "      <td>-0.005712</td>\n",
       "      <td>-0.007004</td>\n",
       "      <td>-0.001866</td>\n",
       "      <td>-0.005760</td>\n",
       "      <td>-0.001075</td>\n",
       "      <td>0.004211</td>\n",
       "      <td>-0.006042</td>\n",
       "      <td>-0.010296</td>\n",
       "      <td>...</td>\n",
       "      <td>-0.005524</td>\n",
       "      <td>-0.001443</td>\n",
       "      <td>-0.003787</td>\n",
       "      <td>-0.007360</td>\n",
       "      <td>-0.007552</td>\n",
       "      <td>0.001964</td>\n",
       "      <td>0.002989</td>\n",
       "      <td>-0.001459</td>\n",
       "      <td>0.000290</td>\n",
       "      <td>CCOC1=C(C=CC(=C1)/C=C(\\C#N)/C2=CC=C(C=C2)[N+](...</td>\n",
       "    </tr>\n",
       "    <tr>\n",
       "      <th>4</th>\n",
       "      <td>ImageData/uh4.png</td>\n",
       "      <td>0.008436</td>\n",
       "      <td>-0.005728</td>\n",
       "      <td>-0.009615</td>\n",
       "      <td>0.002174</td>\n",
       "      <td>0.001339</td>\n",
       "      <td>-0.000722</td>\n",
       "      <td>0.004063</td>\n",
       "      <td>-0.005061</td>\n",
       "      <td>0.002492</td>\n",
       "      <td>...</td>\n",
       "      <td>-0.003132</td>\n",
       "      <td>-0.005669</td>\n",
       "      <td>-0.006349</td>\n",
       "      <td>-0.004257</td>\n",
       "      <td>0.006115</td>\n",
       "      <td>0.006779</td>\n",
       "      <td>-0.000608</td>\n",
       "      <td>-0.003798</td>\n",
       "      <td>-0.004487</td>\n",
       "      <td>CC1=C(C(=O)N(N1C)C2=CC=CC=C2)CN(CCN3CCCC3)C(=O...</td>\n",
       "    </tr>\n",
       "    <tr>\n",
       "      <th>...</th>\n",
       "      <td>...</td>\n",
       "      <td>...</td>\n",
       "      <td>...</td>\n",
       "      <td>...</td>\n",
       "      <td>...</td>\n",
       "      <td>...</td>\n",
       "      <td>...</td>\n",
       "      <td>...</td>\n",
       "      <td>...</td>\n",
       "      <td>...</td>\n",
       "      <td>...</td>\n",
       "      <td>...</td>\n",
       "      <td>...</td>\n",
       "      <td>...</td>\n",
       "      <td>...</td>\n",
       "      <td>...</td>\n",
       "      <td>...</td>\n",
       "      <td>...</td>\n",
       "      <td>...</td>\n",
       "      <td>...</td>\n",
       "      <td>...</td>\n",
       "    </tr>\n",
       "    <tr>\n",
       "      <th>1245</th>\n",
       "      <td>ImageData/uh1245.png</td>\n",
       "      <td>0.005178</td>\n",
       "      <td>0.000309</td>\n",
       "      <td>0.000833</td>\n",
       "      <td>0.002428</td>\n",
       "      <td>0.007894</td>\n",
       "      <td>0.000818</td>\n",
       "      <td>0.000616</td>\n",
       "      <td>0.004995</td>\n",
       "      <td>-0.004694</td>\n",
       "      <td>...</td>\n",
       "      <td>-0.010144</td>\n",
       "      <td>-0.001874</td>\n",
       "      <td>0.002277</td>\n",
       "      <td>0.007178</td>\n",
       "      <td>-0.009206</td>\n",
       "      <td>0.008637</td>\n",
       "      <td>0.000162</td>\n",
       "      <td>-0.005269</td>\n",
       "      <td>-0.002090</td>\n",
       "      <td>C1=CC=C(C(=C1)NC(=O)C2=C(C(=CC(=C2)Cl)[N+](=O)...</td>\n",
       "    </tr>\n",
       "    <tr>\n",
       "      <th>1246</th>\n",
       "      <td>ImageData/uh1246.png</td>\n",
       "      <td>-0.001969</td>\n",
       "      <td>-0.006363</td>\n",
       "      <td>-0.001005</td>\n",
       "      <td>0.004978</td>\n",
       "      <td>0.002395</td>\n",
       "      <td>-0.002361</td>\n",
       "      <td>-0.002082</td>\n",
       "      <td>-0.001974</td>\n",
       "      <td>0.000024</td>\n",
       "      <td>...</td>\n",
       "      <td>-0.005810</td>\n",
       "      <td>0.005080</td>\n",
       "      <td>-0.008886</td>\n",
       "      <td>-0.002668</td>\n",
       "      <td>-0.007688</td>\n",
       "      <td>-0.002359</td>\n",
       "      <td>0.005512</td>\n",
       "      <td>0.003034</td>\n",
       "      <td>0.001387</td>\n",
       "      <td>CC1=CC2=C(C=C1O)C(=C(N2CC3=CC(=CC=C3)Cl)C)C(=O)N</td>\n",
       "    </tr>\n",
       "    <tr>\n",
       "      <th>1247</th>\n",
       "      <td>ImageData/uh1247.png</td>\n",
       "      <td>0.003921</td>\n",
       "      <td>-0.005750</td>\n",
       "      <td>-0.001652</td>\n",
       "      <td>0.009373</td>\n",
       "      <td>-0.005731</td>\n",
       "      <td>-0.003018</td>\n",
       "      <td>0.004601</td>\n",
       "      <td>0.007990</td>\n",
       "      <td>0.004922</td>\n",
       "      <td>...</td>\n",
       "      <td>0.003553</td>\n",
       "      <td>0.000097</td>\n",
       "      <td>0.001365</td>\n",
       "      <td>0.000523</td>\n",
       "      <td>0.002336</td>\n",
       "      <td>0.004126</td>\n",
       "      <td>0.007616</td>\n",
       "      <td>0.008276</td>\n",
       "      <td>0.002631</td>\n",
       "      <td>C[C@H]1C(=O)NC2=C(O1)C=CC(=C2)C(=O)[C@@H](C)Cl</td>\n",
       "    </tr>\n",
       "    <tr>\n",
       "      <th>1248</th>\n",
       "      <td>ImageData/uh1248.png</td>\n",
       "      <td>0.000305</td>\n",
       "      <td>-0.004366</td>\n",
       "      <td>0.002527</td>\n",
       "      <td>0.004344</td>\n",
       "      <td>0.008283</td>\n",
       "      <td>0.002675</td>\n",
       "      <td>-0.004097</td>\n",
       "      <td>-0.004064</td>\n",
       "      <td>-0.006380</td>\n",
       "      <td>...</td>\n",
       "      <td>0.003972</td>\n",
       "      <td>-0.002594</td>\n",
       "      <td>-0.007957</td>\n",
       "      <td>-0.001054</td>\n",
       "      <td>-0.010196</td>\n",
       "      <td>0.006981</td>\n",
       "      <td>0.010379</td>\n",
       "      <td>0.006236</td>\n",
       "      <td>0.005025</td>\n",
       "      <td>C1C2=C(C=C(C=C2)NC(=O)NC3=CC=CC=C3Br)NS1(=O)=O</td>\n",
       "    </tr>\n",
       "    <tr>\n",
       "      <th>1249</th>\n",
       "      <td>ImageData/uh1249.png</td>\n",
       "      <td>0.010026</td>\n",
       "      <td>-0.003508</td>\n",
       "      <td>0.001906</td>\n",
       "      <td>0.006031</td>\n",
       "      <td>0.001980</td>\n",
       "      <td>0.002095</td>\n",
       "      <td>0.001736</td>\n",
       "      <td>0.004575</td>\n",
       "      <td>-0.005369</td>\n",
       "      <td>...</td>\n",
       "      <td>-0.007366</td>\n",
       "      <td>-0.001765</td>\n",
       "      <td>-0.004335</td>\n",
       "      <td>0.004771</td>\n",
       "      <td>-0.007559</td>\n",
       "      <td>-0.000307</td>\n",
       "      <td>-0.000773</td>\n",
       "      <td>0.007561</td>\n",
       "      <td>-0.008088</td>\n",
       "      <td>C1=CC=C(C=C1)CCN(C2=CC=C(C=C2)NC(=S)NC(=O)C3=C...</td>\n",
       "    </tr>\n",
       "  </tbody>\n",
       "</table>\n",
       "<p>1250 rows × 130 columns</p>\n",
       "</div>"
      ],
      "text/plain": [
       "                    Images         0         1         2         3         4  \\\n",
       "0        ImageData/uh0.png  0.008918  0.007185  0.003843 -0.004025 -0.007159   \n",
       "1        ImageData/uh1.png  0.005314  0.007546 -0.005600  0.001770  0.004105   \n",
       "2        ImageData/uh2.png  0.010540 -0.001101 -0.010949  0.010823  0.006059   \n",
       "3        ImageData/uh3.png  0.009642 -0.005712 -0.007004 -0.001866 -0.005760   \n",
       "4        ImageData/uh4.png  0.008436 -0.005728 -0.009615  0.002174  0.001339   \n",
       "...                    ...       ...       ...       ...       ...       ...   \n",
       "1245  ImageData/uh1245.png  0.005178  0.000309  0.000833  0.002428  0.007894   \n",
       "1246  ImageData/uh1246.png -0.001969 -0.006363 -0.001005  0.004978  0.002395   \n",
       "1247  ImageData/uh1247.png  0.003921 -0.005750 -0.001652  0.009373 -0.005731   \n",
       "1248  ImageData/uh1248.png  0.000305 -0.004366  0.002527  0.004344  0.008283   \n",
       "1249  ImageData/uh1249.png  0.010026 -0.003508  0.001906  0.006031  0.001980   \n",
       "\n",
       "             5         6         7         8  ...       119       120  \\\n",
       "0    -0.004339 -0.002224  0.004571 -0.006694  ... -0.005933  0.002324   \n",
       "1    -0.003233  0.001038  0.001464 -0.009206  ...  0.001146  0.002944   \n",
       "2    -0.007081  0.004326 -0.004051 -0.007896  ...  0.001325 -0.007659   \n",
       "3    -0.001075  0.004211 -0.006042 -0.010296  ... -0.005524 -0.001443   \n",
       "4    -0.000722  0.004063 -0.005061  0.002492  ... -0.003132 -0.005669   \n",
       "...        ...       ...       ...       ...  ...       ...       ...   \n",
       "1245  0.000818  0.000616  0.004995 -0.004694  ... -0.010144 -0.001874   \n",
       "1246 -0.002361 -0.002082 -0.001974  0.000024  ... -0.005810  0.005080   \n",
       "1247 -0.003018  0.004601  0.007990  0.004922  ...  0.003553  0.000097   \n",
       "1248  0.002675 -0.004097 -0.004064 -0.006380  ...  0.003972 -0.002594   \n",
       "1249  0.002095  0.001736  0.004575 -0.005369  ... -0.007366 -0.001765   \n",
       "\n",
       "           121       122       123       124       125       126       127  \\\n",
       "0    -0.000274  0.001278  0.006330 -0.000406  0.005050  0.003521  0.005719   \n",
       "1     0.003084  0.001922  0.002732 -0.005300 -0.003507  0.004510  0.000134   \n",
       "2    -0.009448 -0.005587 -0.004743  0.007540 -0.004380 -0.006842  0.008730   \n",
       "3    -0.003787 -0.007360 -0.007552  0.001964  0.002989 -0.001459  0.000290   \n",
       "4    -0.006349 -0.004257  0.006115  0.006779 -0.000608 -0.003798 -0.004487   \n",
       "...        ...       ...       ...       ...       ...       ...       ...   \n",
       "1245  0.002277  0.007178 -0.009206  0.008637  0.000162 -0.005269 -0.002090   \n",
       "1246 -0.008886 -0.002668 -0.007688 -0.002359  0.005512  0.003034  0.001387   \n",
       "1247  0.001365  0.000523  0.002336  0.004126  0.007616  0.008276  0.002631   \n",
       "1248 -0.007957 -0.001054 -0.010196  0.006981  0.010379  0.006236  0.005025   \n",
       "1249 -0.004335  0.004771 -0.007559 -0.000307 -0.000773  0.007561 -0.008088   \n",
       "\n",
       "                                                 SMILES  \n",
       "0      C[NH+](CC1=C(C=CC=C1Cl)F)CN2C(=O)CC3(C2=O)CCCCC3  \n",
       "1     CC1=C(C=C(C=C1)C(=O)NC2=C(C=C(C=C2)I)C3=NC4=CC...  \n",
       "2     COC1=CC=C(C=C1)CCN2C(=O)CC(SC2=NC3=CC=C(C=C3)O...  \n",
       "3     CCOC1=C(C=CC(=C1)/C=C(\\C#N)/C2=CC=C(C=C2)[N+](...  \n",
       "4     CC1=C(C(=O)N(N1C)C2=CC=CC=C2)CN(CCN3CCCC3)C(=O...  \n",
       "...                                                 ...  \n",
       "1245  C1=CC=C(C(=C1)NC(=O)C2=C(C(=CC(=C2)Cl)[N+](=O)...  \n",
       "1246   CC1=CC2=C(C=C1O)C(=C(N2CC3=CC(=CC=C3)Cl)C)C(=O)N  \n",
       "1247     C[C@H]1C(=O)NC2=C(O1)C=CC(=C2)C(=O)[C@@H](C)Cl  \n",
       "1248     C1C2=C(C=C(C=C2)NC(=O)NC3=CC=CC=C3Br)NS1(=O)=O  \n",
       "1249  C1=CC=C(C=C1)CCN(C2=CC=C(C=C2)NC(=S)NC(=O)C3=C...  \n",
       "\n",
       "[1250 rows x 130 columns]"
      ]
     },
     "execution_count": 14,
     "metadata": {},
     "output_type": "execute_result"
    }
   ],
   "source": [
    "data"
   ]
  },
  {
   "cell_type": "code",
   "execution_count": 15,
   "metadata": {},
   "outputs": [],
   "source": [
    "# import tensorflow as tf\n",
    "\n",
    "# cifar = tf.keras.datasets.cifar100\n",
    "# (x_train, y_train), (x_test, y_test) = cifar.load_data()\n",
    "# model = tf.keras.applications.ResNet50(\n",
    "#     include_top=True,\n",
    "#     weights=None,\n",
    "#     input_shape=(32, 32, 3),\n",
    "#     classes=100,)\n",
    "\n",
    "# loss_fn = tf.keras.losses.SparseCategoricalCrossentropy(from_logits=False)\n",
    "# model.compile(optimizer=\"adam\", loss=loss_fn, metrics=[\"accuracy\"])\n",
    "# model.fit(x_train, y_train, epochs=5, batch_size=64)"
   ]
  },
  {
   "cell_type": "code",
   "execution_count": 16,
   "metadata": {},
   "outputs": [],
   "source": [
    "#Split training and test data\n",
    "# keras.preprocessing.image.load_img()\n",
    "TrainX = np.asarray([keras.utils.img_to_array(keras.preprocessing.image.load_img(path=data['Images'][i], color_mode='grayscale').resize((150, 150))) for i in range(0, 1000)], dtype=np.float16)\n",
    "TrainY = np.array([_getEmbedding(i, data.drop(['Images', 'SMILES'], axis=1)) for i in range(0, 1000)])#, dtype=np.float16)\n",
    "\n",
    "TestX = np.asarray([keras.utils.img_to_array(keras.preprocessing.image.load_img(path=data['Images'][i], color_mode='grayscale').resize((150, 150))) for i in range(1000, 1249)], dtype=np.float16)\n",
    "TestY = np.asarray([_getEmbedding(i, data.drop(['Images', 'SMILES'], axis=1)) for i in range(1000, 1249)])#, dtype=np.float16)\n",
    "\n",
    "AllEmbeddings = np.concatenate((TrainY, TestY))"
   ]
  },
  {
   "cell_type": "code",
   "execution_count": 18,
   "metadata": {},
   "outputs": [
    {
     "data": {
      "text/plain": [
       "((1000, 150, 150, 1), (1000, 128))"
      ]
     },
     "execution_count": 18,
     "metadata": {},
     "output_type": "execute_result"
    }
   ],
   "source": [
    "TrainX.shape, TrainY.shape#, TrainY[0]"
   ]
  },
  {
   "cell_type": "code",
   "execution_count": 17,
   "metadata": {},
   "outputs": [
    {
     "data": {
      "text/plain": [
       "array([ 8.9177275e-03,  7.1854717e-03,  3.8428665e-03, -4.0253940e-03,\n",
       "       -7.1591362e-03, -4.3388084e-03, -2.2244342e-03,  4.5708410e-03,\n",
       "       -6.6944393e-03, -7.9990910e-03, -4.2905040e-03,  1.1734873e-02,\n",
       "       -6.5311664e-03,  1.9662790e-03,  6.8848200e-03,  6.0130400e-03,\n",
       "        6.6165370e-04,  5.5164765e-03, -6.4791483e-03,  4.8608356e-03,\n",
       "       -1.8425450e-04, -5.2225525e-03, -1.9734392e-03, -7.1963600e-03,\n",
       "       -7.5456296e-04, -8.2247204e-04,  9.5439370e-03, -5.3567146e-03,\n",
       "       -8.1392920e-03, -3.4479846e-04, -7.4726716e-03, -6.9147090e-03,\n",
       "       -1.3519467e-03, -4.7649564e-03, -6.3540163e-03,  9.1820860e-04,\n",
       "       -1.7171575e-03,  3.8439300e-03,  5.0288877e-03, -7.0183566e-03,\n",
       "       -6.3349665e-03, -9.6803333e-04, -3.5540640e-03,  3.4882694e-03,\n",
       "        7.1226470e-03,  4.0810510e-03, -5.2643553e-03, -7.9339750e-04,\n",
       "        4.9102370e-04, -7.8875620e-03,  1.0330998e-02,  7.8057590e-03,\n",
       "        3.1532740e-03,  1.5166359e-03,  5.3257262e-03,  7.5360010e-03,\n",
       "        5.8633517e-03, -5.9254235e-03, -3.3369833e-03,  5.7787570e-03,\n",
       "       -8.4386110e-04,  3.8847523e-03,  5.4430743e-03,  6.0115317e-03,\n",
       "        4.7575138e-03,  5.1887166e-03, -4.5548338e-03,  4.6744780e-03,\n",
       "        9.4504650e-03,  1.3748673e-03, -7.7998643e-03, -9.0320995e-03,\n",
       "        4.6269740e-03,  4.5750730e-03, -3.3534148e-03, -3.5230610e-03,\n",
       "       -8.0108430e-03, -4.1291523e-03, -5.1914030e-03, -1.9381437e-03,\n",
       "       -7.3285694e-03, -4.6054116e-03, -7.7764774e-03, -1.4921344e-03,\n",
       "       -2.9051418e-03,  6.2191384e-03,  4.3839244e-03, -2.7929794e-03,\n",
       "        3.3127116e-03, -8.2098227e-04,  5.1052630e-03, -4.2747990e-03,\n",
       "       -7.9927060e-04,  8.6730930e-03,  2.7351762e-04,  8.1065610e-03,\n",
       "       -2.0804750e-03, -2.8388617e-05,  5.1883800e-03, -5.4402887e-03,\n",
       "       -2.9828810e-03, -5.6249190e-03,  3.3389130e-03,  6.0746917e-03,\n",
       "        8.6048890e-03,  4.3747853e-03,  8.2909920e-03, -7.5326255e-03,\n",
       "       -4.4090710e-03, -4.5944136e-03, -2.2823534e-03, -4.1432000e-03,\n",
       "       -1.2280596e-03, -1.9455723e-03,  3.0324468e-03,  4.5757270e-03,\n",
       "       -6.3072937e-03,  7.8513810e-03,  4.9562235e-03, -5.9329187e-03,\n",
       "        2.3243325e-03, -2.7403267e-04,  1.2776133e-03,  6.3300150e-03,\n",
       "       -4.0604372e-04,  5.0501430e-03,  3.5214014e-03,  5.7186780e-03])"
      ]
     },
     "execution_count": 17,
     "metadata": {},
     "output_type": "execute_result"
    }
   ],
   "source": [
    "TrainY[0]"
   ]
  },
  {
   "cell_type": "code",
   "execution_count": 30,
   "metadata": {},
   "outputs": [
    {
     "name": "stderr",
     "output_type": "stream",
     "text": [
      "/opt/homebrew/lib/python3.11/site-packages/keras/src/layers/convolutional/base_conv.py:107: UserWarning: Do not pass an `input_shape`/`input_dim` argument to a layer. When using Sequential models, prefer using an `Input(shape)` object as the first layer in the model instead.\n",
      "  super().__init__(activity_regularizer=activity_regularizer, **kwargs)\n"
     ]
    },
    {
     "data": {
      "text/html": [
       "<pre style=\"white-space:pre;overflow-x:auto;line-height:normal;font-family:Menlo,'DejaVu Sans Mono',consolas,'Courier New',monospace\"><span style=\"font-weight: bold\">Model: \"sequential\"</span>\n",
       "</pre>\n"
      ],
      "text/plain": [
       "\u001b[1mModel: \"sequential\"\u001b[0m\n"
      ]
     },
     "metadata": {},
     "output_type": "display_data"
    },
    {
     "data": {
      "text/html": [
       "<pre style=\"white-space:pre;overflow-x:auto;line-height:normal;font-family:Menlo,'DejaVu Sans Mono',consolas,'Courier New',monospace\">┏━━━━━━━━━━━━━━━━━━━━━━━━━━━━━━━━━┳━━━━━━━━━━━━━━━━━━━━━━━━┳━━━━━━━━━━━━━━━┓\n",
       "┃<span style=\"font-weight: bold\"> Layer (type)                    </span>┃<span style=\"font-weight: bold\"> Output Shape           </span>┃<span style=\"font-weight: bold\">       Param # </span>┃\n",
       "┡━━━━━━━━━━━━━━━━━━━━━━━━━━━━━━━━━╇━━━━━━━━━━━━━━━━━━━━━━━━╇━━━━━━━━━━━━━━━┩\n",
       "│ conv2d (<span style=\"color: #0087ff; text-decoration-color: #0087ff\">Conv2D</span>)                 │ (<span style=\"color: #00d7ff; text-decoration-color: #00d7ff\">None</span>, <span style=\"color: #00af00; text-decoration-color: #00af00\">148</span>, <span style=\"color: #00af00; text-decoration-color: #00af00\">148</span>, <span style=\"color: #00af00; text-decoration-color: #00af00\">32</span>)   │           <span style=\"color: #00af00; text-decoration-color: #00af00\">320</span> │\n",
       "├─────────────────────────────────┼────────────────────────┼───────────────┤\n",
       "│ max_pooling2d (<span style=\"color: #0087ff; text-decoration-color: #0087ff\">MaxPooling2D</span>)    │ (<span style=\"color: #00d7ff; text-decoration-color: #00d7ff\">None</span>, <span style=\"color: #00af00; text-decoration-color: #00af00\">74</span>, <span style=\"color: #00af00; text-decoration-color: #00af00\">74</span>, <span style=\"color: #00af00; text-decoration-color: #00af00\">32</span>)     │             <span style=\"color: #00af00; text-decoration-color: #00af00\">0</span> │\n",
       "├─────────────────────────────────┼────────────────────────┼───────────────┤\n",
       "│ conv2d_1 (<span style=\"color: #0087ff; text-decoration-color: #0087ff\">Conv2D</span>)               │ (<span style=\"color: #00d7ff; text-decoration-color: #00d7ff\">None</span>, <span style=\"color: #00af00; text-decoration-color: #00af00\">72</span>, <span style=\"color: #00af00; text-decoration-color: #00af00\">72</span>, <span style=\"color: #00af00; text-decoration-color: #00af00\">64</span>)     │        <span style=\"color: #00af00; text-decoration-color: #00af00\">18,496</span> │\n",
       "├─────────────────────────────────┼────────────────────────┼───────────────┤\n",
       "│ max_pooling2d_1 (<span style=\"color: #0087ff; text-decoration-color: #0087ff\">MaxPooling2D</span>)  │ (<span style=\"color: #00d7ff; text-decoration-color: #00d7ff\">None</span>, <span style=\"color: #00af00; text-decoration-color: #00af00\">36</span>, <span style=\"color: #00af00; text-decoration-color: #00af00\">36</span>, <span style=\"color: #00af00; text-decoration-color: #00af00\">64</span>)     │             <span style=\"color: #00af00; text-decoration-color: #00af00\">0</span> │\n",
       "├─────────────────────────────────┼────────────────────────┼───────────────┤\n",
       "│ conv2d_2 (<span style=\"color: #0087ff; text-decoration-color: #0087ff\">Conv2D</span>)               │ (<span style=\"color: #00d7ff; text-decoration-color: #00d7ff\">None</span>, <span style=\"color: #00af00; text-decoration-color: #00af00\">34</span>, <span style=\"color: #00af00; text-decoration-color: #00af00\">34</span>, <span style=\"color: #00af00; text-decoration-color: #00af00\">128</span>)    │        <span style=\"color: #00af00; text-decoration-color: #00af00\">73,856</span> │\n",
       "├─────────────────────────────────┼────────────────────────┼───────────────┤\n",
       "│ flatten (<span style=\"color: #0087ff; text-decoration-color: #0087ff\">Flatten</span>)               │ (<span style=\"color: #00d7ff; text-decoration-color: #00d7ff\">None</span>, <span style=\"color: #00af00; text-decoration-color: #00af00\">147968</span>)         │             <span style=\"color: #00af00; text-decoration-color: #00af00\">0</span> │\n",
       "├─────────────────────────────────┼────────────────────────┼───────────────┤\n",
       "│ dense (<span style=\"color: #0087ff; text-decoration-color: #0087ff\">Dense</span>)                   │ (<span style=\"color: #00d7ff; text-decoration-color: #00d7ff\">None</span>, <span style=\"color: #00af00; text-decoration-color: #00af00\">128</span>)            │    <span style=\"color: #00af00; text-decoration-color: #00af00\">18,940,032</span> │\n",
       "└─────────────────────────────────┴────────────────────────┴───────────────┘\n",
       "</pre>\n"
      ],
      "text/plain": [
       "┏━━━━━━━━━━━━━━━━━━━━━━━━━━━━━━━━━┳━━━━━━━━━━━━━━━━━━━━━━━━┳━━━━━━━━━━━━━━━┓\n",
       "┃\u001b[1m \u001b[0m\u001b[1mLayer (type)                   \u001b[0m\u001b[1m \u001b[0m┃\u001b[1m \u001b[0m\u001b[1mOutput Shape          \u001b[0m\u001b[1m \u001b[0m┃\u001b[1m \u001b[0m\u001b[1m      Param #\u001b[0m\u001b[1m \u001b[0m┃\n",
       "┡━━━━━━━━━━━━━━━━━━━━━━━━━━━━━━━━━╇━━━━━━━━━━━━━━━━━━━━━━━━╇━━━━━━━━━━━━━━━┩\n",
       "│ conv2d (\u001b[38;5;33mConv2D\u001b[0m)                 │ (\u001b[38;5;45mNone\u001b[0m, \u001b[38;5;34m148\u001b[0m, \u001b[38;5;34m148\u001b[0m, \u001b[38;5;34m32\u001b[0m)   │           \u001b[38;5;34m320\u001b[0m │\n",
       "├─────────────────────────────────┼────────────────────────┼───────────────┤\n",
       "│ max_pooling2d (\u001b[38;5;33mMaxPooling2D\u001b[0m)    │ (\u001b[38;5;45mNone\u001b[0m, \u001b[38;5;34m74\u001b[0m, \u001b[38;5;34m74\u001b[0m, \u001b[38;5;34m32\u001b[0m)     │             \u001b[38;5;34m0\u001b[0m │\n",
       "├─────────────────────────────────┼────────────────────────┼───────────────┤\n",
       "│ conv2d_1 (\u001b[38;5;33mConv2D\u001b[0m)               │ (\u001b[38;5;45mNone\u001b[0m, \u001b[38;5;34m72\u001b[0m, \u001b[38;5;34m72\u001b[0m, \u001b[38;5;34m64\u001b[0m)     │        \u001b[38;5;34m18,496\u001b[0m │\n",
       "├─────────────────────────────────┼────────────────────────┼───────────────┤\n",
       "│ max_pooling2d_1 (\u001b[38;5;33mMaxPooling2D\u001b[0m)  │ (\u001b[38;5;45mNone\u001b[0m, \u001b[38;5;34m36\u001b[0m, \u001b[38;5;34m36\u001b[0m, \u001b[38;5;34m64\u001b[0m)     │             \u001b[38;5;34m0\u001b[0m │\n",
       "├─────────────────────────────────┼────────────────────────┼───────────────┤\n",
       "│ conv2d_2 (\u001b[38;5;33mConv2D\u001b[0m)               │ (\u001b[38;5;45mNone\u001b[0m, \u001b[38;5;34m34\u001b[0m, \u001b[38;5;34m34\u001b[0m, \u001b[38;5;34m128\u001b[0m)    │        \u001b[38;5;34m73,856\u001b[0m │\n",
       "├─────────────────────────────────┼────────────────────────┼───────────────┤\n",
       "│ flatten (\u001b[38;5;33mFlatten\u001b[0m)               │ (\u001b[38;5;45mNone\u001b[0m, \u001b[38;5;34m147968\u001b[0m)         │             \u001b[38;5;34m0\u001b[0m │\n",
       "├─────────────────────────────────┼────────────────────────┼───────────────┤\n",
       "│ dense (\u001b[38;5;33mDense\u001b[0m)                   │ (\u001b[38;5;45mNone\u001b[0m, \u001b[38;5;34m128\u001b[0m)            │    \u001b[38;5;34m18,940,032\u001b[0m │\n",
       "└─────────────────────────────────┴────────────────────────┴───────────────┘\n"
      ]
     },
     "metadata": {},
     "output_type": "display_data"
    },
    {
     "data": {
      "text/html": [
       "<pre style=\"white-space:pre;overflow-x:auto;line-height:normal;font-family:Menlo,'DejaVu Sans Mono',consolas,'Courier New',monospace\"><span style=\"font-weight: bold\"> Total params: </span><span style=\"color: #00af00; text-decoration-color: #00af00\">19,032,704</span> (72.60 MB)\n",
       "</pre>\n"
      ],
      "text/plain": [
       "\u001b[1m Total params: \u001b[0m\u001b[38;5;34m19,032,704\u001b[0m (72.60 MB)\n"
      ]
     },
     "metadata": {},
     "output_type": "display_data"
    },
    {
     "data": {
      "text/html": [
       "<pre style=\"white-space:pre;overflow-x:auto;line-height:normal;font-family:Menlo,'DejaVu Sans Mono',consolas,'Courier New',monospace\"><span style=\"font-weight: bold\"> Trainable params: </span><span style=\"color: #00af00; text-decoration-color: #00af00\">19,032,704</span> (72.60 MB)\n",
       "</pre>\n"
      ],
      "text/plain": [
       "\u001b[1m Trainable params: \u001b[0m\u001b[38;5;34m19,032,704\u001b[0m (72.60 MB)\n"
      ]
     },
     "metadata": {},
     "output_type": "display_data"
    },
    {
     "data": {
      "text/html": [
       "<pre style=\"white-space:pre;overflow-x:auto;line-height:normal;font-family:Menlo,'DejaVu Sans Mono',consolas,'Courier New',monospace\"><span style=\"font-weight: bold\"> Non-trainable params: </span><span style=\"color: #00af00; text-decoration-color: #00af00\">0</span> (0.00 B)\n",
       "</pre>\n"
      ],
      "text/plain": [
       "\u001b[1m Non-trainable params: \u001b[0m\u001b[38;5;34m0\u001b[0m (0.00 B)\n"
      ]
     },
     "metadata": {},
     "output_type": "display_data"
    },
    {
     "name": "stdout",
     "output_type": "stream",
     "text": [
      "Epoch 1/3\n",
      "\u001b[1m32/32\u001b[0m \u001b[32m━━━━━━━━━━━━━━━━━━━━\u001b[0m\u001b[37m\u001b[0m \u001b[1m10s\u001b[0m 282ms/step - accuracy: 0.0080 - loss: 18680.6328 - val_accuracy: 0.0000e+00 - val_loss: 4.1633e-05\n",
      "Epoch 2/3\n",
      "\u001b[1m32/32\u001b[0m \u001b[32m━━━━━━━━━━━━━━━━━━━━\u001b[0m\u001b[37m\u001b[0m \u001b[1m9s\u001b[0m 271ms/step - accuracy: 0.0000e+00 - loss: 4.1331e-05 - val_accuracy: 0.0000e+00 - val_loss: 4.1348e-05\n",
      "Epoch 3/3\n",
      "\u001b[1m32/32\u001b[0m \u001b[32m━━━━━━━━━━━━━━━━━━━━\u001b[0m\u001b[37m\u001b[0m \u001b[1m9s\u001b[0m 278ms/step - accuracy: 6.5932e-04 - loss: 4.0958e-05 - val_accuracy: 0.0201 - val_loss: 4.0305e-05\n"
     ]
    },
    {
     "data": {
      "image/png": "[encoded data removed]",
      "text/plain": [
       "<Figure size 640x480 with 1 Axes>"
      ]
     },
     "metadata": {},
     "output_type": "display_data"
    }
   ],
   "source": [
    "model = keras.models.Sequential()\n",
    "model.add(keras.layers.Conv2D(32, (3, 3), activation='relu', input_shape=(150, 150, 1)))\n",
    "model.add(keras.layers.MaxPooling2D((2, 2)))\n",
    "model.add(keras.layers.Conv2D(64, (3, 3), activation='relu'))\n",
    "model.add(keras.layers.MaxPooling2D((2, 2)))\n",
    "# model.add(keras.layers.Conv2D(64, (3, 3), activation='relu'))\n",
    "model.add(keras.layers.Conv2D(128, (3, 3), activation='relu'))\n",
    "\n",
    "model.add(keras.layers.Flatten())\n",
    "# model.add(keras.layers.Dense(128, activation='relu'))\n",
    "model.add(keras.layers.Dense(128))\n",
    "\n",
    "model.summary()\n",
    "\n",
    "model.compile(optimizer='adam',\n",
    "              loss='mean_squared_error',\n",
    "              metrics=['accuracy'])\n",
    "\n",
    "'''training model USING GENERATOR \n",
    "history = model.fit(generator(Data['Images'], Data.drop(['Images'], axis=1), 32),\n",
    " validation_data = (TestX, TestY), steps_per_epoch = 1000 // 32,\n",
    " epochs = 10)\n",
    "\n",
    "\n",
    "#Train model\n",
    "history = model.fit(TrainX, TrainY,\n",
    " validation_data = (TestX, TestY), \n",
    " epochs = 10)\n",
    "'''\n",
    "history = model.fit(TrainX, TrainY,\n",
    " validation_data = (TestX, TestY), \n",
    " epochs = 3)\n",
    "\n",
    "# Running samples\n",
    "#sample_chemical_embed = AllEmbeddings[50]\n",
    "sample_chemical_diagram = TrainX[50]\n",
    "#model_prediction = model.predict([sample_chemical_diagram])\n",
    "model_prediction = model(np.reshape(sample_chemical_diagram, (1, 150, 150)))\n",
    "closest_embed = _get_closest_embedding(vector=model_prediction[0], embeds=AllEmbeddings)[0]\n",
    "\n",
    "# TODO retrieve corresponding iupac, compare w/ actual iupac\n",
    " \n",
    "#def loadAndTrainLSTM()\n",
    "\n",
    "plt.plot(history.history['accuracy'], label='accuracy')\n",
    "plt.plot(history.history['val_accuracy'], label = 'val_accuracy')\n",
    "plt.xlabel('Epoch')\n",
    "plt.ylabel('Accuracy')\n",
    "plt.ylim([0.5, 1])\n",
    "plt.legend(loc='lower right')\n",
    "plt.show()\n"
   ]
  },
  {
   "cell_type": "code",
   "execution_count": 39,
   "metadata": {},
   "outputs": [
    {
     "name": "stderr",
     "output_type": "stream",
     "text": [
      "/opt/homebrew/Cellar/python@3.11/3.11.6_1/Frameworks/Python.framework/Versions/3.11/lib/python3.11/pty.py:89: RuntimeWarning: os.fork() was called. os.fork() is incompatible with multithreaded code, and JAX is multithreaded, so this will likely lead to a deadlock.\n",
      "  pid, fd = os.forkpty()\n"
     ]
    },
    {
     "name": "stdout",
     "output_type": "stream",
     "text": [
      "Name: keras\n",
      "Version: 3.3.2\n",
      "Summary: Multi-backend Keras.\n",
      "Home-page: https://github.com/keras-team/keras\n",
      "Author: Keras team\n",
      "Author-email: keras-users@googlegroups.com\n",
      "License: Apache License 2.0\n",
      "Location: /opt/homebrew/lib/python3.11/site-packages\n",
      "Requires: absl-py, h5py, ml-dtypes, namex, numpy, optree, rich\n",
      "Required-by: tensorflow-macos\n"
     ]
    }
   ],
   "source": [
    "history.history['accuracy']\n",
    "!pip show keras"
   ]
  },
  {
   "cell_type": "code",
   "execution_count": null,
   "metadata": {},
   "outputs": [],
   "source": [
    "\"\"\"Vectorization\"\"\"\n",
    "\n",
    "# vectorize_layer = TextVectorization(\n",
    "#         max_tokens=vocab_size,\n",
    "#         output_mode=\"int\",\n",
    "#         standardize=custom_standardization,\n",
    "#         output_sequence_length=max_seq,\n",
    "#     )\n",
    "#     vectorize_layer.adapt(texts)"
   ]
  },
  {
   "cell_type": "code",
   "execution_count": null,
   "metadata": {},
   "outputs": [],
   "source": [
    "\"\"\"Functional model\"\"\"\n",
    "# from keras.layers import MultiHeadAttention, Dense, BatchNormalization, Input, \n",
    "# timestep_dimension = self.num_exercises*self.num_exercise_features\n",
    "\n",
    "# # Timestep layers\n",
    "# input_timesteps = Input(shape=(self.num_steps, timestep_dimension))\n",
    "# lstm_1 = LSTM(units=125, activation=\"tanh\", return_sequences=False)(input_timesteps)\n",
    "# batch_norm_1 = BatchNormalization()(lstm_1)\n",
    "# dense_1 = Dense(units=timestep_dimension/2)(batch_norm_1)\n",
    "\n",
    "# embeds = np.array(self.embeddings)\n",
    "# downsampled_embeds = np.array(Dense(units=timestep_dimension/2)(embeds))\n",
    "# def concate_in_embeddings(downsampled_timesteps):\n",
    "#     batch_size = K.shape(downsampled_timesteps)[0]\n",
    "#     tiled_embeddings = K.tile(np.array([downsampled_embeds]), (batch_size, 1, 1))\n",
    "#     return tiled_embeddings\n",
    "    \n",
    "# embeddings_processed = Lambda(concate_in_embeddings)(dense_1)\n",
    "# downsampled_embeddings = embeddings_processed # Consider adding more layers in between\n",
    "\n",
    "\n",
    "# mat_multed_timesteps = embeddings_multiplier([downsampled_embeddings, dense_1])\n",
    "# batch_norm_2 = BatchNormalization()(mat_multed_timesteps)\n",
    "# post_mat_layer_1 = Dense(units=timestep_dimension*2)(batch_norm_2)\n",
    "\n",
    "# # Probability layer\n",
    "# prob_layer = tfp.layers.DistributionLambda(\n",
    "#     lambda t: tfd.Normal(loc=t[..., :timestep_dimension], \n",
    "#                         scale=0.01*tf.math.softplus(t[..., timestep_dimension:])))(post_mat_layer_1)#(tf.Variable(post_mat_layer_1))\n",
    "# output = prob_layer # maybe add more layers\n",
    "\n",
    "# model = Model(inputs=input_timesteps, outputs=output)\n",
    "# #model.compile(optimizer=\"RMSprop\", loss=\"mse\", metrics=None)\n",
    "# model.compile(optimizer=\"RMSprop\", loss=neg_log_lik)\n",
    "\n",
    "# self.model = model\n"
   ]
  },
  {
   "cell_type": "code",
   "execution_count": 47,
   "metadata": {},
   "outputs": [
    {
     "name": "stdout",
     "output_type": "stream",
     "text": [
      "                    Images         0         1         2         3         4  \\\n",
      "0        ImageData/uh0.png  0.008918  0.007185  0.003843 -0.004025 -0.007159   \n",
      "1        ImageData/uh1.png  0.005314  0.007546 -0.005600  0.001770  0.004105   \n",
      "2        ImageData/uh2.png  0.010540 -0.001101 -0.010949  0.010823  0.006059   \n",
      "3        ImageData/uh3.png  0.009642 -0.005712 -0.007004 -0.001866 -0.005760   \n",
      "4        ImageData/uh4.png  0.008436 -0.005728 -0.009615  0.002174  0.001339   \n",
      "...                    ...       ...       ...       ...       ...       ...   \n",
      "1245  ImageData/uh1245.png  0.005178  0.000309  0.000833  0.002428  0.007894   \n",
      "1246  ImageData/uh1246.png -0.001969 -0.006363 -0.001005  0.004978  0.002395   \n",
      "1247  ImageData/uh1247.png  0.003921 -0.005750 -0.001652  0.009373 -0.005731   \n",
      "1248  ImageData/uh1248.png  0.000305 -0.004366  0.002527  0.004344  0.008283   \n",
      "1249  ImageData/uh1249.png  0.010026 -0.003508  0.001906  0.006031  0.001980   \n",
      "\n",
      "             5         6         7         8  ...       118       119  \\\n",
      "0    -0.004339 -0.002224  0.004571 -0.006694  ...  0.004956 -0.005933   \n",
      "1    -0.003233  0.001038  0.001464 -0.009206  ... -0.000326  0.001146   \n",
      "2    -0.007081  0.004326 -0.004051 -0.007896  ...  0.004891  0.001325   \n",
      "3    -0.001075  0.004211 -0.006042 -0.010296  ...  0.005720 -0.005524   \n",
      "4    -0.000722  0.004063 -0.005061  0.002492  ...  0.007897 -0.003132   \n",
      "...        ...       ...       ...       ...  ...       ...       ...   \n",
      "1245  0.000818  0.000616  0.004995 -0.004694  ...  0.002253 -0.010144   \n",
      "1246 -0.002361 -0.002082 -0.001974  0.000024  ... -0.000454 -0.005810   \n",
      "1247 -0.003018  0.004601  0.007990  0.004922  ... -0.002789  0.003553   \n",
      "1248  0.002675 -0.004097 -0.004064 -0.006380  ... -0.001486  0.003972   \n",
      "1249  0.002095  0.001736  0.004575 -0.005369  ...  0.004379 -0.007366   \n",
      "\n",
      "           120       121       122       123       124       125       126  \\\n",
      "0     0.002324 -0.000274  0.001278  0.006330 -0.000406  0.005050  0.003521   \n",
      "1     0.002944  0.003084  0.001922  0.002732 -0.005300 -0.003507  0.004510   \n",
      "2    -0.007659 -0.009448 -0.005587 -0.004743  0.007540 -0.004380 -0.006842   \n",
      "3    -0.001443 -0.003787 -0.007360 -0.007552  0.001964  0.002989 -0.001459   \n",
      "4    -0.005669 -0.006349 -0.004257  0.006115  0.006779 -0.000608 -0.003798   \n",
      "...        ...       ...       ...       ...       ...       ...       ...   \n",
      "1245 -0.001874  0.002277  0.007178 -0.009206  0.008637  0.000162 -0.005269   \n",
      "1246  0.005080 -0.008886 -0.002668 -0.007688 -0.002359  0.005512  0.003034   \n",
      "1247  0.000097  0.001365  0.000523  0.002336  0.004126  0.007616  0.008276   \n",
      "1248 -0.002594 -0.007957 -0.001054 -0.010196  0.006981  0.010379  0.006236   \n",
      "1249 -0.001765 -0.004335  0.004771 -0.007559 -0.000307 -0.000773  0.007561   \n",
      "\n",
      "           127  \n",
      "0     0.005719  \n",
      "1     0.000134  \n",
      "2     0.008730  \n",
      "3     0.000290  \n",
      "4    -0.004487  \n",
      "...        ...  \n",
      "1245 -0.002090  \n",
      "1246  0.001387  \n",
      "1247  0.002631  \n",
      "1248  0.005025  \n",
      "1249 -0.008088  \n",
      "\n",
      "[1250 rows x 129 columns]\n"
     ]
    }
   ],
   "source": [
    "tf.keras.preprocessing.text.Tokenizer()\n",
    "# print(data)\n",
    "smiles = data['SMILES']"
   ]
  },
  {
   "cell_type": "code",
   "execution_count": 4,
   "metadata": {},
   "outputs": [],
   "source": [
    "# !pip install --pre deepchem\n",
    "# import deepchem\n",
    "# deepchem.molnet.TransformerGenerator.create_transformer\n",
    "# import deepchem as dc\n",
    "# # deepchem.trans.Transformer.\n",
    "# import transformers\n",
    "smiles_tokenizer = dc.feat.SmilesTokenizer('vocab.txt')#deepchem/feat/tests/data/vocab.txt')"
   ]
  },
  {
   "cell_type": "code",
   "execution_count": 8,
   "metadata": {},
   "outputs": [
    {
     "data": {
      "text/plain": [
       "[12, 22, 22, 22, 22, 13]"
      ]
     },
     "execution_count": 8,
     "metadata": {},
     "output_type": "execute_result"
    }
   ],
   "source": [
    "smiles_tokenizer('====')['input_ids']"
   ]
  },
  {
   "cell_type": "code",
   "execution_count": 25,
   "metadata": {},
   "outputs": [
    {
     "data": {
      "text/plain": [
       "(TensorShape([150, 150, 1]), TensorShape([128]))"
      ]
     },
     "execution_count": 25,
     "metadata": {},
     "output_type": "execute_result"
    }
   ],
   "source": [
    "list(tf.data.Dataset.from_tensor_slices((TrainX, TrainY)))[0][0].shape, \\\n",
    "list(tf.data.Dataset.from_tensor_slices((TrainX, TrainY)))[0][1].shape,"
   ]
  },
  {
   "cell_type": "code",
   "execution_count": 47,
   "metadata": {},
   "outputs": [],
   "source": [
    "emb_ds=tf.data.Dataset.from_tensor_slices((TrainX, TrainY)).padded_batch(batch_size=64)"
   ]
  },
  {
   "cell_type": "code",
   "execution_count": 49,
   "metadata": {},
   "outputs": [
    {
     "name": "stdout",
     "output_type": "stream",
     "text": [
      "Epoch 1/20\n",
      "\u001b[1m16/16\u001b[0m \u001b[32m━━━━━━━━━━━━━━━━━━━━\u001b[0m\u001b[37m\u001b[0m \u001b[1m9s\u001b[0m 527ms/step - accuracy: 0.0171 - loss: 4.0014e-05 - val_accuracy: 0.0201 - val_loss: 3.9936e-05\n",
      "Epoch 2/20\n",
      "\u001b[1m16/16\u001b[0m \u001b[32m━━━━━━━━━━━━━━━━━━━━\u001b[0m\u001b[37m\u001b[0m \u001b[1m8s\u001b[0m 509ms/step - accuracy: 0.0171 - loss: 3.9964e-05 - val_accuracy: 0.0201 - val_loss: 3.9885e-05\n",
      "Epoch 3/20\n",
      "\u001b[1m16/16\u001b[0m \u001b[32m━━━━━━━━━━━━━━━━━━━━\u001b[0m\u001b[37m\u001b[0m \u001b[1m8s\u001b[0m 502ms/step - accuracy: 0.0171 - loss: 3.9914e-05 - val_accuracy: 0.0201 - val_loss: 3.9834e-05\n",
      "Epoch 4/20\n",
      "\u001b[1m16/16\u001b[0m \u001b[32m━━━━━━━━━━━━━━━━━━━━\u001b[0m\u001b[37m\u001b[0m \u001b[1m8s\u001b[0m 503ms/step - accuracy: 0.0171 - loss: 3.9863e-05 - val_accuracy: 0.0201 - val_loss: 3.9782e-05\n",
      "Epoch 5/20\n",
      "\u001b[1m16/16\u001b[0m \u001b[32m━━━━━━━━━━━━━━━━━━━━\u001b[0m\u001b[37m\u001b[0m \u001b[1m8s\u001b[0m 512ms/step - accuracy: 0.0171 - loss: 3.9811e-05 - val_accuracy: 0.0201 - val_loss: 3.9730e-05\n",
      "Epoch 6/20\n",
      "\u001b[1m16/16\u001b[0m \u001b[32m━━━━━━━━━━━━━━━━━━━━\u001b[0m\u001b[37m\u001b[0m \u001b[1m8s\u001b[0m 516ms/step - accuracy: 0.0171 - loss: 3.9759e-05 - val_accuracy: 0.0201 - val_loss: 3.9677e-05\n",
      "Epoch 7/20\n",
      "\u001b[1m16/16\u001b[0m \u001b[32m━━━━━━━━━━━━━━━━━━━━\u001b[0m\u001b[37m\u001b[0m \u001b[1m8s\u001b[0m 514ms/step - accuracy: 0.0171 - loss: 3.9706e-05 - val_accuracy: 0.0201 - val_loss: 3.9624e-05\n",
      "Epoch 8/20\n",
      "\u001b[1m16/16\u001b[0m \u001b[32m━━━━━━━━━━━━━━━━━━━━\u001b[0m\u001b[37m\u001b[0m \u001b[1m9s\u001b[0m 536ms/step - accuracy: 0.0171 - loss: 3.9653e-05 - val_accuracy: 0.0201 - val_loss: 3.9570e-05\n",
      "Epoch 9/20\n",
      "\u001b[1m16/16\u001b[0m \u001b[32m━━━━━━━━━━━━━━━━━━━━\u001b[0m\u001b[37m\u001b[0m \u001b[1m9s\u001b[0m 546ms/step - accuracy: 0.0171 - loss: 3.9599e-05 - val_accuracy: 0.0201 - val_loss: 3.9515e-05\n",
      "Epoch 10/20\n",
      "\u001b[1m16/16\u001b[0m \u001b[32m━━━━━━━━━━━━━━━━━━━━\u001b[0m\u001b[37m\u001b[0m \u001b[1m9s\u001b[0m 584ms/step - accuracy: 0.0171 - loss: 3.9544e-05 - val_accuracy: 0.0201 - val_loss: 3.9460e-05\n",
      "Epoch 11/20\n",
      "\u001b[1m16/16\u001b[0m \u001b[32m━━━━━━━━━━━━━━━━━━━━\u001b[0m\u001b[37m\u001b[0m \u001b[1m9s\u001b[0m 556ms/step - accuracy: 0.0171 - loss: 3.9489e-05 - val_accuracy: 0.0201 - val_loss: 3.9405e-05\n",
      "Epoch 12/20\n",
      "\u001b[1m16/16\u001b[0m \u001b[32m━━━━━━━━━━━━━━━━━━━━\u001b[0m\u001b[37m\u001b[0m \u001b[1m9s\u001b[0m 588ms/step - accuracy: 0.0171 - loss: 3.9434e-05 - val_accuracy: 0.0201 - val_loss: 3.9349e-05\n",
      "Epoch 13/20\n",
      "\u001b[1m16/16\u001b[0m \u001b[32m━━━━━━━━━━━━━━━━━━━━\u001b[0m\u001b[37m\u001b[0m \u001b[1m8s\u001b[0m 527ms/step - accuracy: 0.0171 - loss: 3.9378e-05 - val_accuracy: 0.0201 - val_loss: 3.9292e-05\n",
      "Epoch 14/20\n",
      "\u001b[1m16/16\u001b[0m \u001b[32m━━━━━━━━━━━━━━━━━━━━\u001b[0m\u001b[37m\u001b[0m \u001b[1m10s\u001b[0m 615ms/step - accuracy: 0.0171 - loss: 3.9321e-05 - val_accuracy: 0.0201 - val_loss: 3.9235e-05\n",
      "Epoch 15/20\n",
      "\u001b[1m16/16\u001b[0m \u001b[32m━━━━━━━━━━━━━━━━━━━━\u001b[0m\u001b[37m\u001b[0m \u001b[1m10s\u001b[0m 596ms/step - accuracy: 0.0171 - loss: 3.9264e-05 - val_accuracy: 0.0201 - val_loss: 3.9178e-05\n",
      "Epoch 16/20\n",
      "\u001b[1m16/16\u001b[0m \u001b[32m━━━━━━━━━━━━━━━━━━━━\u001b[0m\u001b[37m\u001b[0m \u001b[1m9s\u001b[0m 559ms/step - accuracy: 0.0171 - loss: 3.9207e-05 - val_accuracy: 0.0201 - val_loss: 3.9119e-05\n",
      "Epoch 17/20\n",
      "\u001b[1m16/16\u001b[0m \u001b[32m━━━━━━━━━━━━━━━━━━━━\u001b[0m\u001b[37m\u001b[0m \u001b[1m9s\u001b[0m 556ms/step - accuracy: 0.0171 - loss: 3.9149e-05 - val_accuracy: 0.0201 - val_loss: 3.9061e-05\n",
      "Epoch 18/20\n",
      "\u001b[1m16/16\u001b[0m \u001b[32m━━━━━━━━━━━━━━━━━━━━\u001b[0m\u001b[37m\u001b[0m \u001b[1m8s\u001b[0m 527ms/step - accuracy: 0.0171 - loss: 3.9090e-05 - val_accuracy: 0.0201 - val_loss: 3.9002e-05\n",
      "Epoch 19/20\n",
      "\u001b[1m16/16\u001b[0m \u001b[32m━━━━━━━━━━━━━━━━━━━━\u001b[0m\u001b[37m\u001b[0m \u001b[1m9s\u001b[0m 548ms/step - accuracy: 0.0171 - loss: 3.9031e-05 - val_accuracy: 0.0201 - val_loss: 3.8942e-05\n",
      "Epoch 20/20\n",
      "\u001b[1m16/16\u001b[0m \u001b[32m━━━━━━━━━━━━━━━━━━━━\u001b[0m\u001b[37m\u001b[0m \u001b[1m10s\u001b[0m 591ms/step - accuracy: 0.0171 - loss: 3.8971e-05 - val_accuracy: 0.0201 - val_loss: 3.8882e-05\n"
     ]
    }
   ],
   "source": [
    "history = model.fit(emb_ds, validation_data = (TestX, TestY), epochs=20)"
   ]
  },
  {
   "cell_type": "code",
   "execution_count": 35,
   "metadata": {},
   "outputs": [
    {
     "data": {
      "text/plain": [
       "591"
      ]
     },
     "execution_count": 35,
     "metadata": {},
     "output_type": "execute_result"
    }
   ],
   "source": [
    "# smiles_tokenizer.vocab_size"
   ]
  },
  {
   "cell_type": "code",
   "execution_count": 45,
   "metadata": {},
   "outputs": [
    {
     "data": {
      "text/plain": [
       "<tf.Tensor: shape=(3, 591), dtype=float32, numpy=\n",
       "array([[1., 0., 0., ..., 0., 0., 0.],\n",
       "       [0., 0., 0., ..., 0., 0., 0.],\n",
       "       [0., 0., 0., ..., 0., 0., 0.]], dtype=float32)>"
      ]
     },
     "execution_count": 45,
     "metadata": {},
     "output_type": "execute_result"
    }
   ],
   "source": [
    "one_hot_layer = tf.keras.layers.Lambda(lambda x: tf.one_hot(x, smiles_tokenizer.vocab_size))\n",
    "# one_hot_layer(np.array([[34, 66]], dtype=np.int32))\n",
    "\n",
    "tf.one_hot(np.array([0, 34, 66]), smiles_tokenizer.vocab_size)"
   ]
  },
  {
   "cell_type": "code",
   "execution_count": 51,
   "metadata": {},
   "outputs": [],
   "source": [
    "from tensorflow.keras.layers import Dense, LSTM, Dropout, Reshape, concatenate, Input, Lambda, Flatten, Activation, BatchNormalization\n",
    "from tensorflow.keras.models import Sequential, Model\n",
    "class TfProbabilityModel:\n",
    "    pass\n",
    "class ProbabilityEmbeddingsModel(TfProbabilityModel):\n",
    "    def __init__(self, num_exercises=700, n_steps=10, n_features_per_ex=2, n_lstm_units=125, dropout_enabled=True, hyper_params=None, pre_trained_model=None, dir=None, metadata=None, embeds=None):\n",
    "        self.embeddings_model = sentence_embedding()\n",
    "\n",
    "        #if not (isinstance(embeds, np.ndarray) and not isinstance(embeds, list)) or embeds == None or len(embeds) == 0:\n",
    "        #    print(\"WARNING: No Embeddings Found; Model will not compile. Recompile model with embeddings sent\")\n",
    "        #    return\n",
    "\n",
    "        if metadata != None:\n",
    "            # Load from metadata\n",
    "            self.model_metadata = metadata\n",
    "            self.num_exercises = metadata['num_exercises']\n",
    "            self.num_steps = metadata['num_steps']\n",
    "            self.num_exercise_features = metadata['num_exercise_features']\n",
    "            self.dropout_enabled = metadata['dropout_enabled']\n",
    "            self.num_lstm_units = metadata['num_lstm_units']\n",
    "            self.hyper_parameters = metadata['hyper_parameters']\n",
    "            self.custom_objects = None\n",
    "            self.embeddings = metadata['embeddings']\n",
    "            if dir != None:\n",
    "                self.model = load_model(dir)\n",
    "                return\n",
    "                \n",
    "        if embeds is None:\n",
    "            print(\"WARNING: No Embeddings Found; Model will not compile. Recompile model with embeddings sent\")\n",
    "            return\n",
    "        # Initialize/get embeddings\n",
    "        self.embeddings = embeds\n",
    "\n",
    "        super().__init__(num_exercises, n_steps, n_features_per_ex, n_lstm_units, dropout_enabled, hyper_params, pre_trained_model)\n",
    "        self.set_model_metadata(model_type='ProbabilityEmbeddingsModel')\n",
    "\n",
    "    def set_model_metadata(self, model_type):\n",
    "        self.model_metadata['embeddings'] = self.embeddings.tolist()\n",
    "        super().set_model_metadata(model_type)\n",
    "\n",
    "    def _compile(self):\n",
    "        #if self.embeddings == None or len(self.embeddings) == 0:\n",
    "        #    print(\"WARNING: No Embeddings Found; Model will not compile. Recompile model with embeddings sent\")\n",
    "        #    return\n",
    "\n",
    "        timestep_dimension = self.num_exercises*self.num_exercise_features\n",
    "\n",
    "        # Timestep layers\n",
    "        input_timesteps = Input(shape=(self.num_steps, timestep_dimension))\n",
    "        lstm_1 = LSTM(units=125, activation=\"tanh\", return_sequences=False)(input_timesteps)\n",
    "        batch_norm_1 = BatchNormalization()(lstm_1)\n",
    "        dense_1 = Dense(units=timestep_dimension/2)(batch_norm_1)\n",
    "\n",
    "        embeds = np.array(self.embeddings)\n",
    "        downsampled_embeds = np.array(Dense(units=timestep_dimension/2)(embeds))\n",
    "        def concate_in_embeddings(downsampled_timesteps):\n",
    "            batch_size = K.shape(downsampled_timesteps)[0]\n",
    "            tiled_embeddings = K.tile(np.array([downsampled_embeds]), (batch_size, 1, 1))\n",
    "            return tiled_embeddings\n",
    "            \n",
    "        embeddings_processed = Lambda(concate_in_embeddings)(dense_1)\n",
    "        downsampled_embeddings = embeddings_processed # Consider adding more layers in between\n",
    "\n",
    "        class EmbeddingsMatMultLayer(keras.layers.Layer):\n",
    "            def __init__(self):\n",
    "                super().__init__()\n",
    "                \n",
    "            def call(self, inputs):\n",
    "                x, y = inputs\n",
    "                return K.batch_dot(x, y)\n",
    "            \n",
    "        embeddings_multiplier = EmbeddingsMatMultLayer()\n",
    "        mat_multed_timesteps = embeddings_multiplier([downsampled_embeddings, dense_1])\n",
    "        batch_norm_2 = BatchNormalization()(mat_multed_timesteps)\n",
    "        post_mat_layer_1 = Dense(units=timestep_dimension*2)(batch_norm_2)\n",
    "\n",
    "        # Probability layer\n",
    "        prob_layer = tfp.layers.DistributionLambda(\n",
    "            lambda t: tfd.Normal(loc=t[..., :timestep_dimension], \n",
    "                                scale=0.01*tf.math.softplus(t[..., timestep_dimension:])))(post_mat_layer_1)#(tf.Variable(post_mat_layer_1))\n",
    "        output = prob_layer # maybe add more layers\n",
    "\n",
    "        model = Model(inputs=input_timesteps, outputs=output)\n",
    "        #model.compile(optimizer=\"RMSprop\", loss=\"mse\", metrics=None)\n",
    "        model.compile(optimizer=\"RMSprop\", loss=neg_log_lik)\n",
    "\n",
    "        self.model = model\n",
    "    \n",
    "    def train(self, x, y, epochs=50, batch_size=32, use_cache=True): # TODO\n",
    "        return super().train(x, y, epochs, batch_size, use_cache)"
   ]
  },
  {
   "cell_type": "code",
   "execution_count": 54,
   "metadata": {},
   "outputs": [],
   "source": [
    "# model.save('encoder.keras')"
   ]
  }
 ],
 "metadata": {
  "kernelspec": {
   "display_name": ".venv",
   "language": "python",
   "name": "python3"
  },
  "language_info": {
   "codemirror_mode": {
    "name": "ipython",
    "version": 3
   },
   "file_extension": ".py",
   "mimetype": "text/x-python",
   "name": "python",
   "nbconvert_exporter": "python",
   "pygments_lexer": "ipython3",
   "version": "3.11.6"
  }
 },
 "nbformat": 4,
 "nbformat_minor": 2
}
